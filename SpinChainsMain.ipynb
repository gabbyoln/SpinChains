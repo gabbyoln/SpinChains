{
 "cells": [
  {
   "cell_type": "markdown",
   "metadata": {},
   "source": [
    "## Quantum Transport in Driven Spin Chains\n",
    "Gabrielle Olinger, Eric Bittner "
   ]
  },
  {
   "cell_type": "markdown",
   "metadata": {},
   "source": [
    "[How to install QuTiP](http://qutip.org/docs/4.1/installation.html)"
   ]
  },
  {
   "cell_type": "markdown",
   "metadata": {},
   "source": [
    "We include a class written specifically for this project. <br>\n",
    "[view the PhotoDetector class]"
   ]
  }
 ],
 "metadata": {
  "kernelspec": {
   "display_name": "Python 3",
   "language": "python",
   "name": "python3"
  },
  "language_info": {
   "codemirror_mode": {
    "name": "ipython",
    "version": 3
   },
   "file_extension": ".py",
   "mimetype": "text/x-python",
   "name": "python",
   "nbconvert_exporter": "python",
   "pygments_lexer": "ipython3",
   "version": "3.7.3"
  }
 },
 "nbformat": 4,
 "nbformat_minor": 2
}
